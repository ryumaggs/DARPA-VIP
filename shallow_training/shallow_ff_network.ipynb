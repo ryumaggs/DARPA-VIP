{
 "cells": [
  {
   "cell_type": "code",
   "execution_count": 1,
   "metadata": {},
   "outputs": [],
   "source": [
    "import torch\n",
    "import torch.nn as nn\n",
    "import torchvision.datasets as datasets\n",
    "import torchvision.transforms as transforms\n",
    "from torch.autograd import Variable\n",
    "from torch.utils import data\n",
    "\n",
    "import scipy.io as scio\n",
    "import numpy as np"
   ]
  },
  {
   "cell_type": "markdown",
   "metadata": {},
   "source": [
    "## Initialize Hyper-parameters"
   ]
  },
  {
   "cell_type": "code",
   "execution_count": 2,
   "metadata": {},
   "outputs": [],
   "source": [
    "input_size = 11 # low dimension resolution\n",
    "hidden_size = 100 #\n",
    "num_classes = 10\n",
    "num_epochs = 30\n",
    "batch_size = 10\n",
    "learning_rate = 0.001"
   ]
  },
  {
   "cell_type": "markdown",
   "metadata": {},
   "source": [
    "## Feedforward Neural Network Model Structure"
   ]
  },
  {
   "cell_type": "code",
   "execution_count": 3,
   "metadata": {},
   "outputs": [],
   "source": [
    "class ShallowNetwork(nn.Module):\n",
    "    def __init__(self, input_size, hidden_size, num_classes):\n",
    "        super(ShallowNetwork, self).__init__()\n",
    "        self.fc1 = nn.Linear(input_size, hidden_size)\n",
    "        self.relu = nn.ReLU()\n",
    "        self.fc2 = nn.Linear(hidden_size, num_classes)\n",
    "\n",
    "    def forward(self,x):\n",
    "        out = self.fc1(x)\n",
    "        out = self.relu(out)\n",
    "        out =self.fc2(out)\n",
    "        return out"
   ]
  },
  {
   "cell_type": "code",
   "execution_count": 4,
   "metadata": {},
   "outputs": [
    {
     "name": "stdout",
     "output_type": "stream",
     "text": [
      "torch.Size([5000, 11])\n"
     ]
    }
   ],
   "source": [
    "# Creating TrainLoader\n",
    "# load low_dim training data\n",
    "low_dim_data = scio.loadmat('low_dim_6000.mat')\n",
    "low_dim = low_dim_data['low_dim'].reshape(6000)\n",
    "low_dim = np.array([i.reshape(11) for i in low_dim])\n",
    "low_dim -= low_dim.min()\n",
    "low_dim /= low_dim.max()\n",
    "# load labels\n",
    "orig_data = scio.loadmat('subset_6000.mat')\n",
    "labels = orig_data['subset_label_X']\n",
    "labels = labels.reshape(6000)\n",
    "# convert to dataLoader\n",
    "\n",
    "tensor_low_dim = torch.Tensor(low_dim[:5000,:])\n",
    "tensor_labels = torch.Tensor(labels[:5000])\n",
    "low_dim_dataset = data.TensorDataset(tensor_low_dim, tensor_labels)\n",
    "train_loader = data.DataLoader(dataset=low_dim_dataset,\n",
    "                              batch_size=batch_size,)\n",
    "print(tensor_low_dim.shape)"
   ]
  },
  {
   "cell_type": "code",
   "execution_count": 5,
   "metadata": {},
   "outputs": [
    {
     "name": "stdout",
     "output_type": "stream",
     "text": [
      "torch.Size([1000, 11])\n"
     ]
    }
   ],
   "source": [
    "# Creating TestLoader\n",
    "# load_low_dim test data\n",
    "low_dim_data = scio.loadmat('low_dim_test_1000.mat')\n",
    "low_dim = low_dim_data['low_dim_test'].reshape(1000)\n",
    "low_dim = np.array([i.reshape(11) for i in low_dim])\n",
    "low_dim -= low_dim.min()\n",
    "low_dim /= low_dim.max()\n",
    "# load labels\n",
    "labels = low_dim_data['subset_label_X_test']\n",
    "labels = labels.reshape(1000)\n",
    "# # convert to dataLoader\n",
    "tensor_low_dim = torch.Tensor(low_dim[:,:])\n",
    "tensor_labels = torch.Tensor(labels[:])\n",
    "low_dim_dataset = data.TensorDataset(tensor_low_dim, tensor_labels)\n",
    "test_loader = data.DataLoader(dataset=low_dim_dataset,\n",
    "                              batch_size=batch_size,)\n",
    "print(tensor_low_dim.shape)"
   ]
  },
  {
   "cell_type": "markdown",
   "metadata": {},
   "source": [
    "## Instantiate the NN"
   ]
  },
  {
   "cell_type": "code",
   "execution_count": 6,
   "metadata": {},
   "outputs": [],
   "source": [
    "net = ShallowNetwork(input_size, hidden_size, num_classes)"
   ]
  },
  {
   "cell_type": "markdown",
   "metadata": {},
   "source": [
    "## Enable GPU "
   ]
  },
  {
   "cell_type": "code",
   "execution_count": 53,
   "metadata": {},
   "outputs": [],
   "source": [
    "# net.cuda()    # You can comment out this line to disable GPU"
   ]
  },
  {
   "cell_type": "code",
   "execution_count": 7,
   "metadata": {},
   "outputs": [],
   "source": [
    "criterion = nn.CrossEntropyLoss()\n",
    "optimizer = torch.optim.Adam(net.parameters(), lr=learning_rate)"
   ]
  },
  {
   "cell_type": "markdown",
   "metadata": {},
   "source": [
    "## Train the Model"
   ]
  },
  {
   "cell_type": "code",
   "execution_count": 8,
   "metadata": {},
   "outputs": [
    {
     "name": "stdout",
     "output_type": "stream",
     "text": [
      "Epoch [1/30], Step [100/600], Loss: 2.2701\n",
      "Epoch [1/30], Step [200/600], Loss: 2.1618\n",
      "Epoch [1/30], Step [300/600], Loss: 2.0353\n",
      "Epoch [1/30], Step [400/600], Loss: 1.8263\n",
      "Epoch [1/30], Step [500/600], Loss: 1.7833\n",
      "Epoch [2/30], Step [100/600], Loss: 1.8775\n",
      "Epoch [2/30], Step [200/600], Loss: 1.6330\n",
      "Epoch [2/30], Step [300/600], Loss: 1.4896\n",
      "Epoch [2/30], Step [400/600], Loss: 1.3363\n",
      "Epoch [2/30], Step [500/600], Loss: 1.2551\n",
      "Epoch [3/30], Step [100/600], Loss: 1.5787\n",
      "Epoch [3/30], Step [200/600], Loss: 1.2345\n",
      "Epoch [3/30], Step [300/600], Loss: 1.1714\n",
      "Epoch [3/30], Step [400/600], Loss: 1.0686\n",
      "Epoch [3/30], Step [500/600], Loss: 0.9734\n",
      "Epoch [4/30], Step [100/600], Loss: 1.4148\n",
      "Epoch [4/30], Step [200/600], Loss: 1.0454\n",
      "Epoch [4/30], Step [300/600], Loss: 1.0410\n",
      "Epoch [4/30], Step [400/600], Loss: 0.9189\n",
      "Epoch [4/30], Step [500/600], Loss: 0.8339\n",
      "Epoch [5/30], Step [100/600], Loss: 1.3088\n",
      "Epoch [5/30], Step [200/600], Loss: 0.9561\n",
      "Epoch [5/30], Step [300/600], Loss: 0.9795\n",
      "Epoch [5/30], Step [400/600], Loss: 0.8303\n",
      "Epoch [5/30], Step [500/600], Loss: 0.7539\n",
      "Epoch [6/30], Step [100/600], Loss: 1.2324\n",
      "Epoch [6/30], Step [200/600], Loss: 0.9104\n",
      "Epoch [6/30], Step [300/600], Loss: 0.9454\n",
      "Epoch [6/30], Step [400/600], Loss: 0.7745\n",
      "Epoch [6/30], Step [500/600], Loss: 0.7021\n",
      "Epoch [7/30], Step [100/600], Loss: 1.1768\n",
      "Epoch [7/30], Step [200/600], Loss: 0.8835\n",
      "Epoch [7/30], Step [300/600], Loss: 0.9247\n",
      "Epoch [7/30], Step [400/600], Loss: 0.7378\n",
      "Epoch [7/30], Step [500/600], Loss: 0.6651\n",
      "Epoch [8/30], Step [100/600], Loss: 1.1345\n",
      "Epoch [8/30], Step [200/600], Loss: 0.8670\n",
      "Epoch [8/30], Step [300/600], Loss: 0.9109\n",
      "Epoch [8/30], Step [400/600], Loss: 0.7121\n",
      "Epoch [8/30], Step [500/600], Loss: 0.6373\n",
      "Epoch [9/30], Step [100/600], Loss: 1.1032\n",
      "Epoch [9/30], Step [200/600], Loss: 0.8552\n",
      "Epoch [9/30], Step [300/600], Loss: 0.9009\n",
      "Epoch [9/30], Step [400/600], Loss: 0.6943\n",
      "Epoch [9/30], Step [500/600], Loss: 0.6148\n",
      "Epoch [10/30], Step [100/600], Loss: 1.0787\n",
      "Epoch [10/30], Step [200/600], Loss: 0.8467\n",
      "Epoch [10/30], Step [300/600], Loss: 0.8935\n",
      "Epoch [10/30], Step [400/600], Loss: 0.6807\n",
      "Epoch [10/30], Step [500/600], Loss: 0.5959\n",
      "Epoch [11/30], Step [100/600], Loss: 1.0589\n",
      "Epoch [11/30], Step [200/600], Loss: 0.8392\n",
      "Epoch [11/30], Step [300/600], Loss: 0.8878\n",
      "Epoch [11/30], Step [400/600], Loss: 0.6720\n",
      "Epoch [11/30], Step [500/600], Loss: 0.5803\n",
      "Epoch [12/30], Step [100/600], Loss: 1.0449\n",
      "Epoch [12/30], Step [200/600], Loss: 0.8330\n",
      "Epoch [12/30], Step [300/600], Loss: 0.8826\n",
      "Epoch [12/30], Step [400/600], Loss: 0.6647\n",
      "Epoch [12/30], Step [500/600], Loss: 0.5677\n",
      "Epoch [13/30], Step [100/600], Loss: 1.0314\n",
      "Epoch [13/30], Step [200/600], Loss: 0.8250\n",
      "Epoch [13/30], Step [300/600], Loss: 0.8777\n",
      "Epoch [13/30], Step [400/600], Loss: 0.6591\n",
      "Epoch [13/30], Step [500/600], Loss: 0.5568\n",
      "Epoch [14/30], Step [100/600], Loss: 1.0201\n",
      "Epoch [14/30], Step [200/600], Loss: 0.8196\n",
      "Epoch [14/30], Step [300/600], Loss: 0.8737\n",
      "Epoch [14/30], Step [400/600], Loss: 0.6552\n",
      "Epoch [14/30], Step [500/600], Loss: 0.5466\n",
      "Epoch [15/30], Step [100/600], Loss: 1.0113\n",
      "Epoch [15/30], Step [200/600], Loss: 0.8166\n",
      "Epoch [15/30], Step [300/600], Loss: 0.8713\n",
      "Epoch [15/30], Step [400/600], Loss: 0.6500\n",
      "Epoch [15/30], Step [500/600], Loss: 0.5372\n",
      "Epoch [16/30], Step [100/600], Loss: 1.0036\n",
      "Epoch [16/30], Step [200/600], Loss: 0.8124\n",
      "Epoch [16/30], Step [300/600], Loss: 0.8680\n",
      "Epoch [16/30], Step [400/600], Loss: 0.6454\n",
      "Epoch [16/30], Step [500/600], Loss: 0.5295\n",
      "Epoch [17/30], Step [100/600], Loss: 0.9971\n",
      "Epoch [17/30], Step [200/600], Loss: 0.8076\n",
      "Epoch [17/30], Step [300/600], Loss: 0.8651\n",
      "Epoch [17/30], Step [400/600], Loss: 0.6419\n",
      "Epoch [17/30], Step [500/600], Loss: 0.5215\n",
      "Epoch [18/30], Step [100/600], Loss: 0.9906\n",
      "Epoch [18/30], Step [200/600], Loss: 0.8018\n",
      "Epoch [18/30], Step [300/600], Loss: 0.8615\n",
      "Epoch [18/30], Step [400/600], Loss: 0.6387\n",
      "Epoch [18/30], Step [500/600], Loss: 0.5148\n",
      "Epoch [19/30], Step [100/600], Loss: 0.9852\n",
      "Epoch [19/30], Step [200/600], Loss: 0.7971\n",
      "Epoch [19/30], Step [300/600], Loss: 0.8593\n",
      "Epoch [19/30], Step [400/600], Loss: 0.6355\n",
      "Epoch [19/30], Step [500/600], Loss: 0.5081\n",
      "Epoch [20/30], Step [100/600], Loss: 0.9801\n",
      "Epoch [20/30], Step [200/600], Loss: 0.7931\n",
      "Epoch [20/30], Step [300/600], Loss: 0.8563\n",
      "Epoch [20/30], Step [400/600], Loss: 0.6316\n",
      "Epoch [20/30], Step [500/600], Loss: 0.5021\n",
      "Epoch [21/30], Step [100/600], Loss: 0.9735\n",
      "Epoch [21/30], Step [200/600], Loss: 0.7889\n",
      "Epoch [21/30], Step [300/600], Loss: 0.8530\n",
      "Epoch [21/30], Step [400/600], Loss: 0.6295\n",
      "Epoch [21/30], Step [500/600], Loss: 0.4948\n",
      "Epoch [22/30], Step [100/600], Loss: 0.9693\n",
      "Epoch [22/30], Step [200/600], Loss: 0.7842\n",
      "Epoch [22/30], Step [300/600], Loss: 0.8505\n",
      "Epoch [22/30], Step [400/600], Loss: 0.6270\n",
      "Epoch [22/30], Step [500/600], Loss: 0.4882\n",
      "Epoch [23/30], Step [100/600], Loss: 0.9643\n",
      "Epoch [23/30], Step [200/600], Loss: 0.7795\n",
      "Epoch [23/30], Step [300/600], Loss: 0.8464\n",
      "Epoch [23/30], Step [400/600], Loss: 0.6255\n",
      "Epoch [23/30], Step [500/600], Loss: 0.4820\n",
      "Epoch [24/30], Step [100/600], Loss: 0.9615\n",
      "Epoch [24/30], Step [200/600], Loss: 0.7755\n",
      "Epoch [24/30], Step [300/600], Loss: 0.8431\n",
      "Epoch [24/30], Step [400/600], Loss: 0.6214\n",
      "Epoch [24/30], Step [500/600], Loss: 0.4763\n",
      "Epoch [25/30], Step [100/600], Loss: 0.9575\n",
      "Epoch [25/30], Step [200/600], Loss: 0.7713\n",
      "Epoch [25/30], Step [300/600], Loss: 0.8401\n",
      "Epoch [25/30], Step [400/600], Loss: 0.6174\n",
      "Epoch [25/30], Step [500/600], Loss: 0.4710\n",
      "Epoch [26/30], Step [100/600], Loss: 0.9514\n",
      "Epoch [26/30], Step [200/600], Loss: 0.7661\n",
      "Epoch [26/30], Step [300/600], Loss: 0.8363\n",
      "Epoch [26/30], Step [400/600], Loss: 0.6149\n",
      "Epoch [26/30], Step [500/600], Loss: 0.4663\n",
      "Epoch [27/30], Step [100/600], Loss: 0.9493\n",
      "Epoch [27/30], Step [200/600], Loss: 0.7581\n",
      "Epoch [27/30], Step [300/600], Loss: 0.8347\n",
      "Epoch [27/30], Step [400/600], Loss: 0.6101\n",
      "Epoch [27/30], Step [500/600], Loss: 0.4611\n",
      "Epoch [28/30], Step [100/600], Loss: 0.9501\n",
      "Epoch [28/30], Step [200/600], Loss: 0.7530\n",
      "Epoch [28/30], Step [300/600], Loss: 0.8305\n",
      "Epoch [28/30], Step [400/600], Loss: 0.6084\n",
      "Epoch [28/30], Step [500/600], Loss: 0.4570\n",
      "Epoch [29/30], Step [100/600], Loss: 0.9489\n",
      "Epoch [29/30], Step [200/600], Loss: 0.7487\n",
      "Epoch [29/30], Step [300/600], Loss: 0.8291\n",
      "Epoch [29/30], Step [400/600], Loss: 0.6005\n",
      "Epoch [29/30], Step [500/600], Loss: 0.4494\n",
      "Epoch [30/30], Step [100/600], Loss: 0.9452\n",
      "Epoch [30/30], Step [200/600], Loss: 0.7452\n",
      "Epoch [30/30], Step [300/600], Loss: 0.8277\n",
      "Epoch [30/30], Step [400/600], Loss: 0.5954\n",
      "Epoch [30/30], Step [500/600], Loss: 0.4446\n"
     ]
    }
   ],
   "source": [
    "for epoch in range(num_epochs):\n",
    "    for i, (images, labels) in enumerate(train_loader):  \n",
    "        images = Variable(images)         \n",
    "        labels = Variable(labels.long())\n",
    "        \n",
    "        optimizer.zero_grad()                             # Intialize the hidden weight to all zeros\n",
    "        outputs = net(images)                           # Forward pass: compute the output class given a image\n",
    "        loss = criterion(outputs, labels)                 # Compute the loss: difference between the output class and the pre-given label\n",
    "        loss.backward()                                   # Backward pass: compute the weight\n",
    "        optimizer.step()                                  # Optimizer: update the weights of hidden nodes\n",
    "        if (i+1) % 100 == 0:                              # Logging\n",
    "            print('Epoch [%d/%d], Step [%d/%d], Loss: %.4f'\n",
    "                 %(epoch+1, num_epochs, i+1, 6000//batch_size, loss.data))"
   ]
  },
  {
   "cell_type": "markdown",
   "metadata": {},
   "source": [
    "## Test the Model"
   ]
  },
  {
   "cell_type": "markdown",
   "metadata": {},
   "source": [
    "Similar to training the nerual network, we also need to load batches of test images and collect the outputs. The differences are that:\n",
    "(1) No loss & weights calculation\n",
    "(2) No wights update\n",
    "(3) Has correct prediction calculation"
   ]
  },
  {
   "cell_type": "code",
   "execution_count": 9,
   "metadata": {},
   "outputs": [
    {
     "name": "stdout",
     "output_type": "stream",
     "text": [
      "Accuracy of the network on the 10K test images: 17 %\n"
     ]
    }
   ],
   "source": [
    "correct = 0\n",
    "total = 0\n",
    "for images, labels in test_loader:\n",
    "    labels = labels.long()\n",
    "    images = Variable(images)\n",
    "    outputs = net(images)\n",
    "    _, predicted = torch.max(outputs.data, 1)  # Choose the best class from the output: The class with the best score\n",
    "    total += labels.size(0)                    # Increment the total count\n",
    "    correct += (predicted == labels).sum()     # Increment the correct count\n",
    "    \n",
    "print('Accuracy of the network on the 10K test images: %d %%' % (100 * correct / total))"
   ]
  },
  {
   "cell_type": "markdown",
   "metadata": {},
   "source": [
    "## Save the trained Model for future use"
   ]
  },
  {
   "cell_type": "code",
   "execution_count": null,
   "metadata": {},
   "outputs": [],
   "source": []
  },
  {
   "cell_type": "code",
   "execution_count": 11,
   "metadata": {},
   "outputs": [],
   "source": [
    "# Save the model\n",
    "torch.save(net.state_dict(), 'fnn_model.pkl')"
   ]
  },
  {
   "cell_type": "code",
   "execution_count": 10,
   "metadata": {},
   "outputs": [],
   "source": [
    "from tensorboardX import SummaryWriter\n",
    "writer = SummaryWriter('runs/mnist')"
   ]
  },
  {
   "cell_type": "code",
   "execution_count": 11,
   "metadata": {},
   "outputs": [],
   "source": [
    "imgs = None\n",
    "for images, labels in test_loader:\n",
    "    imgs = images\n",
    "    break\n",
    "writer.add_graph(net,tensor_low_dim)"
   ]
  },
  {
   "cell_type": "code",
   "execution_count": 127,
   "metadata": {},
   "outputs": [],
   "source": [
    "writer.add_graph(net,tensor_low_dim)"
   ]
  },
  {
   "cell_type": "code",
   "execution_count": 1,
   "metadata": {},
   "outputs": [
    {
     "ename": "NameError",
     "evalue": "name 'writer' is not defined",
     "output_type": "error",
     "traceback": [
      "\u001b[0;31m---------------------------------------------------------------------------\u001b[0m",
      "\u001b[0;31mNameError\u001b[0m                                 Traceback (most recent call last)",
      "\u001b[0;32m<ipython-input-1-5f6d4868f1d2>\u001b[0m in \u001b[0;36m<module>\u001b[0;34m()\u001b[0m\n\u001b[0;32m----> 1\u001b[0;31m \u001b[0mwriter\u001b[0m\u001b[0;34m.\u001b[0m\u001b[0mclose\u001b[0m\u001b[0;34m(\u001b[0m\u001b[0;34m)\u001b[0m\u001b[0;34m\u001b[0m\u001b[0m\n\u001b[0m",
      "\u001b[0;31mNameError\u001b[0m: name 'writer' is not defined"
     ]
    }
   ],
   "source": [
    "writer.close()"
   ]
  },
  {
   "cell_type": "code",
   "execution_count": null,
   "metadata": {},
   "outputs": [],
   "source": []
  }
 ],
 "metadata": {
  "kernelspec": {
   "display_name": "Python [default]",
   "language": "python",
   "name": "python3"
  },
  "language_info": {
   "codemirror_mode": {
    "name": "ipython",
    "version": 3
   },
   "file_extension": ".py",
   "mimetype": "text/x-python",
   "name": "python",
   "nbconvert_exporter": "python",
   "pygments_lexer": "ipython3",
   "version": "3.5.6"
  }
 },
 "nbformat": 4,
 "nbformat_minor": 2
}
